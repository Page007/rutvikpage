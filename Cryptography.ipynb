{
 "cells": [
  {
   "cell_type": "code",
   "execution_count": 1,
   "metadata": {},
   "outputs": [
    {
     "name": "stdout",
     "output_type": "stream",
     "text": [
      "Enter the values of a, c, b, n as : a*x + c = b(mod n)1 2 3 4\n",
      "There are  1 solutions to this equation\n",
      "[1]\n"
     ]
    }
   ],
   "source": [
    "import math\n",
    "def multiInverse(a, n):\n",
    "    z = [i for i in range(n)]\n",
    "    for i in z:\n",
    "        if (i*a) % n == 1:\n",
    "            return i\n",
    "# a*x + c = b(mod n)\n",
    "def solveEqtn(a, c, b, n):\n",
    "    d = math.gcd(a, n)\n",
    "    b -= c\n",
    "    # Checking for no solution\n",
    "    if b % d != 0:\n",
    "        return 'No solution'\n",
    "    print('There are ', d, 'solutions to this equation')\n",
    "    a = a // d\n",
    "    b = b // d\n",
    "    n = n // d\n",
    "    solutions = []\n",
    "    x0 = (b*multiInverse(a, n)) % n\n",
    "    for i in range(d):\n",
    "        solutions.append(x0 + i*n)\n",
    "    return solutions\n",
    "\n",
    "a, c, b, n = [int(i) for i in input('Enter the values of a, c, b, n as : a*x + c = b(mod n)').split()]\n",
    "print(solveEqtn(a, c, b, n))"
   ]
  },
  {
   "cell_type": "code",
   "execution_count": 3,
   "metadata": {},
   "outputs": [],
   "source": [
    "alphaBet = 'abcdefghijklmnopqrstuvwxyz'\n",
    "counter = 0\n",
    "dictionary = {}\n",
    "for i in alphaBet:\n",
    "    dictionary[i] = counter\n",
    "    counter += 1\n",
    "del counter\n",
    "del alphaBet"
   ]
  },
  {
   "cell_type": "code",
   "execution_count": 4,
   "metadata": {
    "scrolled": true
   },
   "outputs": [
    {
     "name": "stdout",
     "output_type": "stream",
     "text": [
      "Enter plainText for additive and multiplicative ciphers : \n",
      "this is an exercise\n",
      "Enter the key20\n",
      "NBCM CM UH YRYLWCMY\n",
      "QKEW EW AA CSCCOEWC\n",
      "Enter the keys for affine cipher 15 20\n",
      "TVKE KE UH CBCPYKEC \n"
     ]
    }
   ],
   "source": [
    "def encryptWord(encType, word, key):\n",
    "    if encType == 'add':\n",
    "        encrypted = str()\n",
    "        for i in word:\n",
    "            temp = (dictionary[i.lower()] + key) % 26\n",
    "            for j in dictionary:\n",
    "                if dictionary[j] == temp:\n",
    "                    encrypted += j.upper()\n",
    "                    break\n",
    "        return encrypted\n",
    "    else:\n",
    "        encrypted = str()\n",
    "        for i in word:\n",
    "            temp = (dictionary[i] * key) % 26\n",
    "            for j in dictionary:\n",
    "                if dictionary[j] == temp:\n",
    "                    encrypted += j.upper()\n",
    "                    break\n",
    "        return encrypted\n",
    "def addEncrypt(text, key):\n",
    "    text = text.split()\n",
    "    cipherText = ''\n",
    "    for i in text:\n",
    "        cipherText += encryptWord('add', i, key)\n",
    "        cipherText += ' '\n",
    "    return cipherText\n",
    "def multiEncrypt(text, key):\n",
    "    text = text.split()\n",
    "    cipherText = ''\n",
    "    for i in text:\n",
    "        cipherText += encryptWord('multi', i, key)\n",
    "        cipherText += ' '\n",
    "    return cipherText\n",
    "plainText = input('Enter plainText for additive and multiplicative ciphers : \\n')\n",
    "key = int(input('Enter the key'))\n",
    "print(addEncrypt(plainText, key).strip())\n",
    "print(multiEncrypt(plainText, key).strip())\n",
    "k1, k2 = [int(i) for i in input('Enter the keys for affine cipher ').split()]\n",
    "print(addEncrypt(multiEncrypt(plainText, k1), k2))"
   ]
  },
  {
   "cell_type": "code",
   "execution_count": 5,
   "metadata": {},
   "outputs": [
    {
     "name": "stdout",
     "output_type": "stream",
     "text": [
      "Enter the text to be decrypted : dvvkzecfssprkkve\n",
      "cuujydberroqjjud\n",
      "Does this make sense? no\n",
      "bttixcadqqnpiitc\n",
      "Does this make sense? no\n",
      "asshwbzcppmohhsb\n",
      "Does this make sense? no\n",
      "zrrgvayboolnggra\n",
      "Does this make sense? no\n",
      "yqqfuzxannkmffqz\n",
      "Does this make sense? no\n",
      "xppetywzmmjleepy\n",
      "Does this make sense? no\n",
      "woodsxvyllikddox\n",
      "Does this make sense? no\n",
      "vnncrwuxkkhjccnw\n",
      "Does this make sense? no\n",
      "ummbqvtwjjgibbmv\n",
      "Does this make sense? no\n",
      "tllapusviifhaalu\n",
      "Does this make sense? no\n",
      "skkzotruhhegzzkt\n",
      "Does this make sense? no\n",
      "rjjynsqtggdfyyjs\n",
      "Does this make sense? no\n",
      "qiixmrpsffcexxir\n",
      "Does this make sense? no\n",
      "phhwlqoreebdwwhq\n",
      "Does this make sense? no\n",
      "oggvkpnqddacvvgp\n",
      "Does this make sense? no\n",
      "nffujompcczbuufo\n",
      "Does this make sense? no\n",
      "meetinlobbyatten\n",
      "Does this make sense? yes\n",
      "meetinlobbyatten guessed key :  17\n"
     ]
    }
   ],
   "source": [
    "def makesSense(decrypted):\n",
    "    print(decrypted)\n",
    "    decision = input('Does this make sense? ')\n",
    "    if decision == 'no' or decision == 'No' or decision == 'NO':\n",
    "        return False\n",
    "    return True\n",
    "def decrypt(cipherText, guessedKey):\n",
    "    decrypted = str()\n",
    "    for i in cipherText:\n",
    "        temp = (dictionary[i] - guessedKey) % 26\n",
    "        for j in dictionary:\n",
    "            if dictionary[j] == temp:\n",
    "                decrypted += j\n",
    "                break\n",
    "    if makesSense(decrypted) == True:\n",
    "        return decrypted\n",
    "    return ''\n",
    "cipherText = input('Enter the text to be decrypted : ').lower()\n",
    "for i in range(1, 26):\n",
    "    temp = decrypt(cipherText, i)\n",
    "    if temp == '':\n",
    "        continue\n",
    "    else:\n",
    "        print(temp, 'guessed key : ', i)\n",
    "        break"
   ]
  },
  {
   "cell_type": "code",
   "execution_count": 6,
   "metadata": {},
   "outputs": [
    {
     "name": "stdout",
     "output_type": "stream",
     "text": [
      "thebestofafightismakingupafterwards\n"
     ]
    }
   ],
   "source": [
    "# There is hardly any brute force here. The values of k1 and k2 are computable directly\n",
    "# By normal computation, values of k1 and k2 are 5(mod 26) and 6(mod 26) respectively\n",
    "def decryptAffine(cipherText, k1, k2):\n",
    "    inter = str()\n",
    "    for i in cipherText:\n",
    "        temp = (dictionary[i] - k2) % 26\n",
    "        for j in dictionary:\n",
    "            if dictionary[j] == temp:\n",
    "                inter += j\n",
    "                break\n",
    "    inv = multiInverse(k1, 26)\n",
    "    plainText = ''\n",
    "    for i in inter:\n",
    "        temp = (dictionary[i] * inv) % 26\n",
    "        for j in dictionary:\n",
    "            if dictionary[j] == temp:\n",
    "                plainText += j\n",
    "                break\n",
    "    return plainText\n",
    "print(decryptAffine('XPALASXYFGFUKPXUSOGEUTKCDGFXANMGNVS'.lower(), 5, 6))"
   ]
  },
  {
   "cell_type": "code",
   "execution_count": 4,
   "metadata": {},
   "outputs": [
    {
     "data": {
      "text/plain": [
       "'thiscourseaimstoprovideyouwithdetailedknowledgeofimportanttechnologiesandapplicationthatareusedintheinternetduetothebroadnatureofthisfieldthecoursecoversonlyselectedtopicsfocussingfirstonsomeadvancedtopicsininternettechnologiesegwirelesslansmobileinternetmulticastandthenaselectionofcurrentandnextgenerationapplicationsandservicesegppiptvvoipyouwilllearnhowtheinternetworksandhowservicesandapplicationsareprovidedtousersoftheinternetthisknowledgewillhelpyou'"
      ]
     },
     "execution_count": 4,
     "metadata": {},
     "output_type": "execute_result"
    }
   ],
   "source": [
    "def addDecrypt(cipherText, key):\n",
    "    decrypted = ''\n",
    "    for i in cipherText:\n",
    "        temp = (dictionary[i] - key) % 26\n",
    "        for j in dictionary:\n",
    "            if dictionary[j] == temp:\n",
    "                decrypted += j\n",
    "                break\n",
    "    return decrypted\n",
    "def statisticalAttack(cipherText):\n",
    "    freq = {}\n",
    "    for i in cipherText:\n",
    "        if i in freq:\n",
    "            freq[i] += 1\n",
    "        else:\n",
    "            freq[i] = 1\n",
    "    mostFreq = max(list(freq.values()))\n",
    "    for i in freq:\n",
    "        if freq[i] == mostFreq:\n",
    "            mostFreq = i\n",
    "            break\n",
    "    for i in dictionary:\n",
    "        if i == mostFreq:\n",
    "            mostFreq = dictionary[i]\n",
    "            break\n",
    "    return addDecrypt(cipherText, (mostFreq - dictionary['e']) % 26)\n",
    "statisticalAttack('ymnxhtzwxjfnrxytuwtanijdtzbnymijyfnqjipstbqjiljtknrutwyfsyyjhmstqtlnjxfsifuuqnhfyntsymfyfwjzxjinsymjnsyjwsjyizjytymjgwtfisfyzwjtkymnxknjqiymjhtzwxjhtajwxtsqdxjqjhyjiytunhxkthzxxnslknwxytsxtrjfiafshjiytunhxnsnsyjwsjyyjhmstqtlnjxjlbnwjqjxxqfsxrtgnqjnsyjwsjyrzqynhfxyfsiymjsfxjqjhyntstkhzwwjsyfsisjcyljsjwfyntsfuuqnhfyntsxfsixjwanhjxjluunuyaatnudtzbnqqqjfwsmtbymjnsyjwsjybtwpxfsimtbxjwanhjxfsifuuqnhfyntsxfwjuwtanijiytzxjwxtkymjnsyjwsjyymnxpstbqjiljbnqqmjqudtz')"
   ]
  },
  {
   "cell_type": "code",
   "execution_count": 5,
   "metadata": {},
   "outputs": [
    {
     "data": {
      "text/plain": [
       "'ktzwprivwebzowkrzqkvrcipeyrikrktesvzqpzsdewbqckeptqzuiewrjwepivzqfprosikevwbqcprosikevqekgrvlwgzktjrpiwrqzqkevqekwepivzkykteprivwezwejjepkznedywsdzkzqkrkgrsbvkwjzvwkzqkvrcipzqfktektervyrjpvyskrfvbstyzqpdiczqftrgobqypdbwwzpbdbqcsrsidbvbdfrvzktowgrvlefcewvwbczfzkbdwzfqbkivewbqcweprqcsvrnzczqfcekbzdwrjvebdzqkevqekwepivzkysvrkrprdwbdfrvzktowbqcktvebkwefzswepnzviwewjzvegbddwteqpeyrigzdddebvqhrktktervekzpbdbwsepkwrjprosikevbqcqekgrvlwepivzkybwgeddbwtrgktbkktervyzwbssdzeczqktezqkevqekktzwlqrgdecfegzddtedsyrizqcewzfqzqfbqccenedrszqfwepivebssdzpbkzrqwbqcqekgrvlsvrkrprdwbwgeddbwhizdczqfwepiveqekgrvlw'"
      ]
     },
     "execution_count": 5,
     "metadata": {},
     "output_type": "execute_result"
    }
   ],
   "source": [
    "statisticalAttack('ziolegxkltqodlzgofzkgrxetngxzgzithkofeohstlqfrzteifojxtlgyltexkofuegdhxztklqfregdhxztkftzvgkalvoziygexlgfofztkftzltexkoznzitegxkltoltyytezoctsnlhsozofzgzvghqkzlyoklzofzkgrxeofuzitzitgkngyeknhzgukqhinofesxrofuigvdqfnesqlloeqsqfrhghxsqkqsugkozidlvgkaturtlklqrouozqsloufqzxktlqfrltegfrhkgcorofurtzqoslgyktqsofztkftzltexkoznhkgzgegslqsugkozidlqfrziktqzltuohltecokxltlyoktvqsslitfetngxvossstqkfwgzizitgktzoeqsqlhtezlgyegdhxztkqfrftzvgkaltexkoznqlvtssqligvziqzzitgknolqhhsotrofzitofztkftzziolafgvstrutvossitshngxofrtloufofuqfrrtctsghofultexktqhhsoeqzogflqfrftzvgkahkgzgegslqlvtssqlwxosrofultexktftzvgkal')"
   ]
  },
  {
   "cell_type": "code",
   "execution_count": 7,
   "metadata": {},
   "outputs": [],
   "source": [
    "# pattern attack on cipherText\n",
    "# Solution to be provided by the faculty. 25! combinations need to be checked."
   ]
  },
  {
   "cell_type": "markdown",
   "metadata": {},
   "source": [
    "## LAB 3"
   ]
  },
  {
   "cell_type": "markdown",
   "metadata": {},
   "source": [
    "### Question 1 and Question 2"
   ]
  },
  {
   "cell_type": "code",
   "execution_count": 4,
   "metadata": {},
   "outputs": [],
   "source": [
    "# It is advised that the key should not contain the character 'j'\n",
    "def createSecretKey():\n",
    "    key = input('Enter the secret key : ')\n",
    "    key = key.lower()\n",
    "    temp = {}\n",
    "    l = list(key)\n",
    "    secretKey = list()\n",
    "    for i in l:\n",
    "        if i not in temp:\n",
    "            temp[i] = 1\n",
    "    for i in dictionary:\n",
    "        if i not in temp and i != 'j':\n",
    "            l.append(i)\n",
    "    for i in range(0, len(l), 5):\n",
    "        secretKey.append(list(l[i:i + 5]))\n",
    "    del temp\n",
    "    del l\n",
    "    return secretKey"
   ]
  },
  {
   "cell_type": "code",
   "execution_count": 5,
   "metadata": {},
   "outputs": [
    {
     "name": "stdout",
     "output_type": "stream",
     "text": [
      "Enter the secret key : rutvikpage\n"
     ]
    }
   ],
   "source": [
    "secretKey1 = ['lgdba', 'qmhec', 'urnif', 'xvsok', 'zywtp']\n",
    "# Treat 'j' in the cipher text as 'i' only\n",
    "for i in range(5):\n",
    "    secretKey1[i] = list(secretKey1[i])\n",
    "secretKey = createSecretKey()\n",
    "def findCoordinates(char):\n",
    "    column = 0\n",
    "    for i in range(len(secretKey)):\n",
    "        for j in secretKey[i]:\n",
    "            if j == char:\n",
    "                return (i, column)\n",
    "            column += 1\n",
    "        column = 0\n",
    "def findCharacter(row, column):\n",
    "    return secretKey[row][column]"
   ]
  },
  {
   "cell_type": "code",
   "execution_count": 6,
   "metadata": {},
   "outputs": [],
   "source": [
    "def preprocessWord(plainText):\n",
    "    # replacing 'j' by 'i' in the text\n",
    "    temp = ''\n",
    "    for i in plainText:\n",
    "        if i == 'j' or i =='J':\n",
    "            temp += 'i'\n",
    "        else:\n",
    "            temp += i\n",
    "    del plainText\n",
    "    return temp"
   ]
  },
  {
   "cell_type": "code",
   "execution_count": 7,
   "metadata": {},
   "outputs": [],
   "source": [
    "def isSameRow(a, b):\n",
    "    # This function returns True if a and b are in the same row\n",
    "    if findCoordinates(a)[0] == findCoordinates(b)[0]:\n",
    "        return True\n",
    "    return False\n",
    "def isSameColumn(a, b):\n",
    "    # Return True if a and b are in the same column\n",
    "    if findCoordinates(a)[1] == findCoordinates(b)[1]:\n",
    "        return True\n",
    "    return False"
   ]
  },
  {
   "cell_type": "code",
   "execution_count": 8,
   "metadata": {},
   "outputs": [],
   "source": [
    "def encryptSameRow(plainText):\n",
    "    a = plainText[0]\n",
    "    b = plainText[1]\n",
    "    a = list(findCoordinates(a))\n",
    "    b = list(findCoordinates(b))\n",
    "    a[1] = (a[1] + 1) % 5\n",
    "    b[1] = (b[1] + 1) % 5\n",
    "    return findCharacter(a[0], a[1]) + findCharacter(b[0], b[1])\n",
    "def encryptSameColumn(plainText):\n",
    "    a = plainText[0]\n",
    "    b = plainText[1]\n",
    "    a = list(findCoordinates(a))\n",
    "    b = list(findCoordinates(b))\n",
    "    a[0] = (a[0] + 1) % 5\n",
    "    b[0] = (b[0] + 1) % 5\n",
    "    return findCharacter(a[0], a[1]) + findCharacter(b[0], b[1])\n",
    "def rectangular(plainText):\n",
    "    a = plainText[0]\n",
    "    b = plainText[1]\n",
    "    temp = a\n",
    "    a = findCharacter(findCoordinates(a)[0], findCoordinates(b)[1])\n",
    "    b = findCharacter(findCoordinates(b)[0], findCoordinates(temp)[1])\n",
    "    return a + b"
   ]
  },
  {
   "cell_type": "code",
   "execution_count": 9,
   "metadata": {},
   "outputs": [],
   "source": [
    "def preprocessText(plainText):\n",
    "    p = plainText.split()\n",
    "    for i in range(len(p)):\n",
    "        p[i] = preprocessWord(p[i])\n",
    "        p[i] = p[i].lower()\n",
    "    return p\n",
    "def encryptPlayfairWord(plainText):\n",
    "    if isSameRow(plainText[0], plainText[1]):\n",
    "        return encryptSameRow(plainText)\n",
    "    if isSameColumn(plainText[0], plainText[1]):\n",
    "        return encryptSameColumn(plainText)\n",
    "    return rectangular(plainText)\n",
    "def padWords(p):\n",
    "    # This function receives a list and returns the list in which all the characters are \n",
    "    # even length and the special character added is z here. (Since z has the least frequency to occur in input)\n",
    "    retList = list()\n",
    "    for i in p:\n",
    "        temp = ''\n",
    "        current = dict()\n",
    "        for j in range(len(i)):\n",
    "            if i[j] in current and i[j] == i[j - 1]:\n",
    "                temp = temp + 'z' + i[j]\n",
    "            else:\n",
    "                temp += i[j]\n",
    "                current[i[j]] = 1 \n",
    "        else:\n",
    "            #print(temp)\n",
    "            retList.append(temp)\n",
    "    else:\n",
    "        for i in range(len(retList)):\n",
    "            if len(retList[i]) % 2 != 0:\n",
    "                # Add the special character at the middle of the odd length word\n",
    "                temp = retList[i][:(len(retList[i]) // 2) + 1] + 'z' + retList[i][(len(retList[i]) // 2) + 1 : ]\n",
    "                retList[i] = temp\n",
    "        return retList"
   ]
  },
  {
   "cell_type": "code",
   "execution_count": 10,
   "metadata": {},
   "outputs": [
    {
     "name": "stdout",
     "output_type": "stream",
     "text": [
      "Enter the text to be encrypted : hello worldd\n",
      "qhqsmqymksxhxh\n"
     ]
    }
   ],
   "source": [
    "p = preprocessText(input('Enter the text to be encrypted : '))\n",
    "p = padWords(p)\n",
    "# Here, all the words have been padded, and its time to encrypt\n",
    "encrypted = ''\n",
    "for i in p:\n",
    "    for j in range(0, len(i), 2):\n",
    "        encrypted += encryptPlayfairWord(i[j] + i[j + 1])\n",
    "print(encrypted)"
   ]
  },
  {
   "cell_type": "markdown",
   "metadata": {},
   "source": [
    "### Question 3"
   ]
  },
  {
   "cell_type": "code",
   "execution_count": 11,
   "metadata": {},
   "outputs": [
    {
     "name": "stdout",
     "output_type": "stream",
     "text": [
      "Enter text : rutvik page\n",
      "Enter the key for vignere cipher : pascal\n",
      "gulxiveayg\n"
     ]
    }
   ],
   "source": [
    "def addCharacters(a, b):\n",
    "    temp = (dictionary[a] + dictionary[b]) % 26\n",
    "    for i in dictionary :\n",
    "        if dictionary[i] == temp:\n",
    "            return i\n",
    "def getKeyWord():\n",
    "    return input('Enter the key for vignere cipher : ')\n",
    "def preprocessInput(plainText):\n",
    "    plainText = plainText.split()\n",
    "    for i in range(len(plainText)):\n",
    "        plainText[i] = plainText[i].lower()\n",
    "    plainText = ''.join(plainText)\n",
    "    return plainText.strip()\n",
    "def encryptWord(plainText, key):\n",
    "    encrypted = ''\n",
    "    for i in range(len(plainText)):\n",
    "        encrypted += addCharacters(plainText[i], key[i % len(key)])\n",
    "    print(encrypted)\n",
    "encryptWord(preprocessInput(preprocessInput(input('Enter text : '))), getKeyWord())"
   ]
  },
  {
   "cell_type": "markdown",
   "metadata": {},
   "source": [
    "### Question 4"
   ]
  },
  {
   "cell_type": "code",
   "execution_count": null,
   "metadata": {},
   "outputs": [],
   "source": [
    "# Requires the knowledge of some characters since there are at the least 26^4 combinations that need to be studied, which \n",
    "# either will exhaust all the time of the universe or take up so much space that it will eventually crash."
   ]
  },
  {
   "cell_type": "markdown",
   "metadata": {},
   "source": [
    "## LAB 4"
   ]
  },
  {
   "cell_type": "markdown",
   "metadata": {},
   "source": [
    "### Question 1"
   ]
  },
  {
   "cell_type": "code",
   "execution_count": 2,
   "metadata": {},
   "outputs": [
    {
     "name": "stdout",
     "output_type": "stream",
     "text": [
      "enemy attacks tonight\n",
      "31452\n",
      "TIYTEAOZHMCSEANGTKTN\n",
      "\n"
     ]
    },
    {
     "data": {
      "text/plain": [
       "''"
      ]
     },
     "execution_count": 2,
     "metadata": {},
     "output_type": "execute_result"
    }
   ],
   "source": [
    "def preprocess_string(s):\n",
    "    s = s.lower()\n",
    "    plaintext = ''\n",
    "    for i in s:\n",
    "        temp = ord(i)\n",
    "        if (temp < 123 and temp > 96 or temp < 91 and temp > 64):\n",
    "            plaintext += i\n",
    "    return plaintext\n",
    "    \n",
    "def make_transposition_suitable(P, key, bogus = 'z'):\n",
    "    key = [int(i) for i in key]\n",
    "    len_key = max(key) - min(key)\n",
    "    if (len(P) % len_key):\n",
    "        P += bogus * (len_key - len(P) % len_key)\n",
    "    return P\n",
    "\n",
    "def single_transposition(P, key):\n",
    "    C = ''\n",
    "    j = -1\n",
    "    n = len(key)\n",
    "    for i in range(len(P)):\n",
    "        if not i % n:\n",
    "            j += 1\n",
    "        C += P[n * j + int(key[i % n]) - 1]\n",
    "    return C\n",
    "\n",
    "def read_column_by_column(P, key):\n",
    "    n = len(P) // len(key)\n",
    "    C = ''\n",
    "    step = len(key)\n",
    "    for j in range(step):\n",
    "        for i in range(n):\n",
    "            C += P[j + i * step]\n",
    "    return C\n",
    "   \n",
    "def one_iteration(P, key):\n",
    "    return read_column_by_column(single_transposition(P, key), key)\n",
    "    \n",
    "def multiple_transposition(P, key, n = 2):\n",
    "    C = P\n",
    "    for i in range(n):\n",
    "        C = one_iteration(C, key)\n",
    "    return C.upper()\n",
    "\n",
    "s = input()\n",
    "key = input()\n",
    "P = make_transposition_suitable(preprocess_string(s), key)\n",
    "print(multiple_transposition(P, key))\n",
    "input()"
   ]
  },
  {
   "cell_type": "markdown",
   "metadata": {},
   "source": [
    "### Question 2"
   ]
  },
  {
   "cell_type": "code",
   "execution_count": 3,
   "metadata": {},
   "outputs": [
    {
     "name": "stdout",
     "output_type": "stream",
     "text": [
      "Enter seed : 0001\n",
      "[1, 0, 0, 0]\n",
      "[0, 1, 0, 0]\n",
      "[0, 0, 1, 0]\n",
      "[1, 0, 0, 1]\n",
      "[1, 1, 0, 0]\n",
      "[0, 1, 1, 0]\n",
      "[1, 0, 1, 1]\n",
      "[0, 1, 0, 1]\n",
      "[1, 0, 1, 0]\n",
      "[1, 1, 0, 1]\n",
      "[1, 1, 1, 0]\n",
      "[1, 1, 1, 1]\n",
      "[0, 1, 1, 1]\n",
      "[0, 0, 1, 1]\n",
      "[0, 0, 0, 1]\n",
      "[1, 0, 0, 0]\n",
      "[0, 1, 0, 0]\n",
      "[0, 0, 1, 0]\n",
      "[1, 0, 0, 1]\n",
      "[1, 1, 0, 0]\n"
     ]
    }
   ],
   "source": [
    "seed = [int(i) for i in list(input('Enter seed : '))]\n",
    "for i in range(20):\n",
    "    b = int(seed[2])^int(seed[3])\n",
    "    seed[3]=int(seed[2])\n",
    "    seed[2]=int(seed[1])\n",
    "    seed[1]=int(seed[0])\n",
    "    seed[0]=b\n",
    "    print(seed)"
   ]
  },
  {
   "cell_type": "markdown",
   "metadata": {},
   "source": [
    "### Question 3"
   ]
  },
  {
   "cell_type": "code",
   "execution_count": 7,
   "metadata": {},
   "outputs": [],
   "source": [
    "def preprocess_string(s):\n",
    "    s = s.lower()\n",
    "    plaintext = ''\n",
    "    for i in s:\n",
    "        temp = ord(i)\n",
    "        if (temp < 123 and temp > 96 or temp < 91 and temp > 64):\n",
    "            plaintext += i\n",
    "    return plaintext\n",
    "\n",
    "def make_transposition_suitable(P, key, bogus = 'z'):\n",
    "    key = [int(i) for i in key]\n",
    "    len_key = max(key) - min(key) + 1\n",
    "    if (len(P) % len_key):\n",
    "        P += bogus * (len_key - len(P) % len_key)\n",
    "    return P\n",
    "   \n",
    "def single_transposition(P, key):\n",
    "    C = ''\n",
    "    j = -1  \n",
    "    n = len(key)\n",
    "    key = [int(i) for i in key]\n",
    "    len_key = max(key) - min(key) + 1\n",
    "    for i in range(0, len(P), len_key):\n",
    "        for j in range(n):\n",
    "            C += P[i + key[j] -1]            \n",
    "    return C\n",
    "\n",
    "def read_column_by_column(P, key):\n",
    "    n = len(P) // len(key)\n",
    "    C = ''\n",
    "    step = len(key)\n",
    "    for j in range(step):\n",
    "        for i in range(n):\n",
    "            C += P[j + i * step]\n",
    "    return C\n",
    "   \n",
    "def one_iteration(P, key):\n",
    "    return read_column_by_column(single_transposition(P, key), key)\n",
    "\n",
    "def text_to_transposition_key(string = \"SWINDON\"):\n",
    "    string = string.lower()\n",
    "    string_to_int = [ord(i) - 97 for i in string]\n",
    "    sorted_string_to_int = sorted(set(string_to_int))\n",
    "    key = []\n",
    "    for i in string_to_int:\n",
    "        key.append(sorted_string_to_int.index(i) + 1)\n",
    "    return ''.join([str(i) for i in key])\n",
    "\n",
    "def encrypt_file_line_by_line(key = \"SWINDON\", file_name = \"text.txt\", \n",
    "                              output_file_name = \"output_3.txt\", change_newline_by = 'nl'):\n",
    "    \n",
    "    key = text_to_transposition_key(key)\n",
    "    with open(file_name, \"r\") as file:\n",
    "        with open(output_file_name, \"w\") as encrypted_file:\n",
    "            for line in file:\n",
    "                P = make_transposition_suitable(preprocess_string(line), key)\n",
    "                C = one_iteration(P, key)\n",
    "                C += change_newline_by\n",
    "                encrypted_file.write(C)\n",
    "    return\n",
    "\n",
    "encrypt_file_line_by_line()"
   ]
  },
  {
   "cell_type": "markdown",
   "metadata": {},
   "source": [
    "### Question 4"
   ]
  },
  {
   "cell_type": "code",
   "execution_count": 8,
   "metadata": {},
   "outputs": [
    {
     "name": "stdout",
     "output_type": "stream",
     "text": [
      "101111\n"
     ]
    }
   ],
   "source": [
    "def multiply(P2 = '10011110', P1 ='000100110', IR = '100011011'):\n",
    "    powers = []\n",
    "    p2_len = len(P2)\n",
    "    p1_len = len(P1)\n",
    "    ir_len = len(IR) \n",
    "    P1 = int(P1, 2)\n",
    "    P2 = int(P2, 2)\n",
    "    IR = int(IR[1:], 2)\n",
    "    \n",
    "    powers.append(P1)\n",
    "    temp = P1\n",
    "    for i in range(p2_len - 1):\n",
    "        temp = temp << 1\n",
    "        temp_str = bin(temp)[2:]\n",
    "        temp_str = '0' * (ir_len - len(temp_str)) + temp_str\n",
    "        if int(temp_str[-ir_len]):\n",
    "            temp = int(temp_str[1:], 2) ^ IR\n",
    "        powers.append(temp)\n",
    "    \n",
    "    P1 = bin(P1)[2:]\n",
    "    P1 = '0' * (p1_len - len(P1)) + P1\n",
    "    P2 = bin(P2)[2:]\n",
    "    P2 = '0' * (p2_len - len(P2)) + P2\n",
    "    \n",
    "    answer = 0\n",
    "    for i in range(1, p2_len + 1):\n",
    "        if P2[-i] == '1':\n",
    "            answer = answer ^ powers[i - 1]\n",
    "    \n",
    "    print(bin(answer)[2:])\n",
    "multiply()"
   ]
  },
  {
   "cell_type": "markdown",
   "metadata": {},
   "source": [
    "## LAB 5"
   ]
  },
  {
   "cell_type": "markdown",
   "metadata": {},
   "source": [
    "### Question 1 (DES Implementation)"
   ]
  },
  {
   "cell_type": "code",
   "execution_count": 8,
   "metadata": {},
   "outputs": [],
   "source": [
    "def leftShift(binary, number_of_shifts):\n",
    "    temp = binary[ : number_of_shifts]\n",
    "    return binary[number_of_shifts : ] + binary[ : number_of_shifts]\n",
    "def makeKey(cn_dn, pBox):\n",
    "    temp = ''\n",
    "    for i in range(48):\n",
    "        temp += cn_dn[pBox[i] - 1]\n",
    "    return temp\n",
    "def exor(num1, num2):\n",
    "    # Assuming both the numbers have equal bits in them\n",
    "    result = ''\n",
    "    for i in range(len(num1)):\n",
    "        if num1[i] == num2[i]:\n",
    "            result += '0'\n",
    "        else:\n",
    "            result += '1'\n",
    "    return result\n",
    "def createSelectionTable():\n",
    "    table = [None for i in range(48)]\n",
    "    for i in range(6):\n",
    "        if (i) % 32 == 0:\n",
    "            table[i] = 32\n",
    "        else:\n",
    "            table[i] = i % 32\n",
    "    for i in range(6, 48):\n",
    "        x = ((table[i - 6] % 32) + 4) % 32\n",
    "        if x == 0:\n",
    "            table[i] = 32\n",
    "        else:\n",
    "            table[i] = ((table[i - 6] % 32) + 4) % 32\n",
    "    return table"
   ]
  },
  {
   "cell_type": "code",
   "execution_count": 9,
   "metadata": {},
   "outputs": [],
   "source": [
    "def createKeys():\n",
    "    # Create 16 subkeys, each being 48 bits long\n",
    "    # lets assume that the initial key (64 bits) is supplied to the given P-box and gives a \n",
    "    # 56 bit key, called K+\n",
    "    k_collapsed = '1111000 0110011 0010101 0101111 0101010 1011001 1001111 0001111'\n",
    "    # generate c0 and d0\n",
    "    temp = k_collapsed.split()\n",
    "    c0 = ''\n",
    "    for i in range(4):\n",
    "        c0 += temp[i]\n",
    "    d0 = ''\n",
    "    for i in range(4, len(temp)):\n",
    "        d0 += temp[i]\n",
    "    # Now, we have to define Cn and Dn for 1<=n<=16 and Cn and Dn depends on Cn_1 and Dn_2\n",
    "    # and we have to obtain these using left shifts\n",
    "    left_shift_list = [1, 1, 2, 2, 2, 2, 2, 2, 1, 2, 2, 2, 2, 2, 2, 1]\n",
    "    cd_dict = dict()\n",
    "    prev_c = c0\n",
    "    prev_d = d0\n",
    "    for i in range(1, 17):\n",
    "        new_c = leftShift(prev_c, left_shift_list[i - 1])\n",
    "        new_d = leftShift(prev_d, left_shift_list[i - 1])\n",
    "        cd_dict[i] = new_c + new_d\n",
    "        prev_c = new_c\n",
    "        prev_d = new_d\n",
    "    # Now finally generate keys using the concatenated c_nD_n\n",
    "    permutation_box_2 = [14, 17, 11, 24, 1, 5, \n",
    "                        3, 28, 15, 6, 21, 10,\n",
    "                        23, 19, 12, 4, 26, 8,\n",
    "                        16, 7, 27, 20, 13, 2,\n",
    "                        41, 52, 31, 37, 47, 55,\n",
    "                        30, 40, 51, 45, 33, 48, \n",
    "                        44, 49, 39, 56, 34, 53, \n",
    "                        46, 42, 50, 36, 29, 32]\n",
    "    key_box = list()\n",
    "    for i in range(16):\n",
    "        # Prepare key here.\n",
    "        key_box.append(makeKey(cd_dict[i + 1], permutation_box_2))\n",
    "    # The list key_box has all the keys\n",
    "    del cd_dict\n",
    "    del prev_c\n",
    "    del prev_d\n",
    "    del k_collapsed\n",
    "    del temp\n",
    "    del permutation_box_2\n",
    "    return key_box"
   ]
  },
  {
   "cell_type": "code",
   "execution_count": 10,
   "metadata": {},
   "outputs": [],
   "source": [
    "def retrieve4Bit(rowCol, count):\n",
    "    with open('tableInput.txt', 'r') as file:\n",
    "        p = file.readlines()\n",
    "    for i in p:\n",
    "        if i == '\\n':\n",
    "            p.remove(i)\n",
    "    table = []\n",
    "    # accessing the (count - 1) th table\n",
    "    for i in range(4):\n",
    "        table.append(p[4*count + i])\n",
    "    # removing the newline character\n",
    "    table[rowCol[0]] = table[rowCol[0]][:-1]\n",
    "    temp = bin(int(table[rowCol[0]].split()[rowCol[1]], 10))[2:]\n",
    "    # Making the length of the string as 4 bit.\n",
    "    if len(temp) == 4:\n",
    "        return temp\n",
    "    x = len(temp)\n",
    "    while 4 - x > 0:\n",
    "        temp = '0' + temp\n",
    "        x += 1\n",
    "    return temp\n",
    "#retrieve4Bit((3, 8), 3)"
   ]
  },
  {
   "cell_type": "code",
   "execution_count": 15,
   "metadata": {},
   "outputs": [],
   "source": [
    "def makeSense(bitSequence):\n",
    "    row = int(bitSequence[0] + bitSequence[-1], 2)\n",
    "    col = int(bitSequence[1:-1], 2)\n",
    "    return (row, col)\n",
    "def subs_utility(b_i, count):\n",
    "    # retrieve the 4 bit entry from the substitution table defined by count.\n",
    "    return retrieve4Bit(makeSense(b_i), count)\n",
    "def substitute(input_48Bit):\n",
    "    # send 8 6 bit units to the above function and concatenate to the output\n",
    "    result = ''\n",
    "    for i in range(0, 48, 6):\n",
    "        temp = subs_utility(input_48Bit[i : i + 6], i // 6)\n",
    "        result += temp\n",
    "    return result"
   ]
  },
  {
   "cell_type": "code",
   "execution_count": 16,
   "metadata": {},
   "outputs": [],
   "source": [
    "def DES_func(nibble, key):\n",
    "    # expand nibble from 32 bits to 48 bits\n",
    "    selTable = createSelectionTable()\n",
    "    E = str()\n",
    "    for i in range(48):\n",
    "        E += nibble[selTable[i] - 1]\n",
    "    return substitute(exor(key, E))"
   ]
  },
  {
   "cell_type": "code",
   "execution_count": 33,
   "metadata": {},
   "outputs": [],
   "source": [
    "# Encode each 64 bit block of data\n",
    "def encodeBlock(keys, message = '0000000100100011010001010110011110001001101010111100110111101111'):\n",
    "    pBox = [58, 50, 42, 34, 26, 18, 10, 2,\n",
    "                          60, 52, 44, 36, 28, 20, 12, 4,\n",
    "                          62, 54, 46, 38, 30, 22, 14, 6,\n",
    "                          64, 56, 48, 40, 32, 24, 16, 8,\n",
    "                          57, 49, 41, 33, 25, 17, 9, 1,\n",
    "                          59, 51, 43, 35, 27, 19, 11, 3,\n",
    "                          61, 53, 45, 37, 29, 21, 13, 5,\n",
    "                          63, 55, 47, 39, 31, 23, 15, 7]\n",
    "    initialPermutation = ''\n",
    "    for i in range(64):\n",
    "        initialPermutation += message[pBox[i] - 1]\n",
    "    # divide the initial permutation into two parts, l0 and r0\n",
    "    l0 = initialPermutation[:32]\n",
    "    r0 = initialPermutation[32:]\n",
    "    del initialPermutation\n",
    "    prev_l = l0\n",
    "    prev_r = r0\n",
    "    for i in range(1, 17):\n",
    "        new_l = prev_r\n",
    "        new_r = exor(prev_l, DES_func(prev_r, keys[i - 1]))\n",
    "        prev_l = new_l\n",
    "        prev_r = new_r\n",
    "    # Inverting the output at the end of 16th iteration\n",
    "    new_l, new_r = new_r, new_l\n",
    "    # Obtain string before IP inverse P Boxing\n",
    "    bef_IP_inv = new_l + new_r\n",
    "    # Now apply a final permutation, which is the inverse of the initial permutation\n",
    "    # Read the initialPermutation inverse first.\n",
    "    with open('IP_inv.txt', 'r') as file:\n",
    "        a = file.readlines()\n",
    "    for i in range(len(a)):\n",
    "        if a[i] == '\\n':\n",
    "            a.remove(a[i])\n",
    "        else:\n",
    "            a[i] = a[i][:-1]\n",
    "            a[i] = ' ' + a[i]\n",
    "    else:\n",
    "        temp = ''\n",
    "        for i in range(len(a)):\n",
    "            temp += a[i]\n",
    "    a = temp\n",
    "    del temp\n",
    "    a = a.split()\n",
    "    result = ''\n",
    "    for i in range(64):\n",
    "        result += bef_IP_inv[int(a[i]) - 1]\n",
    "    return result"
   ]
  },
  {
   "cell_type": "code",
   "execution_count": 37,
   "metadata": {},
   "outputs": [
    {
     "name": "stdout",
     "output_type": "stream",
     "text": [
      "1101010010110010011011011100110100010001001110011110100111001011 64\n"
     ]
    }
   ],
   "source": [
    "encoded = encodeBlock(createKeys())\n",
    "print(encoded, len(encoded))\n",
    "# This program can be easily extended to blocks of 64 bit "
   ]
  },
  {
   "cell_type": "markdown",
   "metadata": {},
   "source": [
    "### Question 3"
   ]
  },
  {
   "cell_type": "code",
   "execution_count": 7,
   "metadata": {},
   "outputs": [],
   "source": [
    "import math\n",
    "def multiInverse(a, n):\n",
    "    z = [i for i in range(n)]\n",
    "    for i in z:\n",
    "        if (i*a) % n == 1:\n",
    "            return i\n",
    "def find_e(phi_n):\n",
    "    for i in range(2, phi_n):\n",
    "        if math.gcd(i, phi_n) == 1:\n",
    "            return i\n",
    "# First generate key for the communication. Note that the key is public\n",
    "# Selecting primes as 11 and 5\n",
    "def generateKeys(p, q):\n",
    "    n = p*q\n",
    "    phi_n = (p - 1)*(q - 1)\n",
    "    # Select e such that 1 < e < phi_n and e is co-prime to phi_n\n",
    "    e = find_e(phi_n)\n",
    "    d = multiInverse(e, phi_n)\n",
    "    public_key = (e, n)\n",
    "    private_key = (d, n)\n",
    "    return (public_key, private_key)"
   ]
  },
  {
   "cell_type": "code",
   "execution_count": 8,
   "metadata": {},
   "outputs": [],
   "source": [
    "def FastExponentiation(a, x, n):\n",
    "    # calculating y = a^x mod n\n",
    "    p = list(bin(x)[2:])\n",
    "    y = 1\n",
    "    p.reverse()\n",
    "    for i in range(len(p)):\n",
    "        if p[i] == '1':\n",
    "            y = (a * y) % n\n",
    "        a = (a * a) % n\n",
    "    return y"
   ]
  },
  {
   "cell_type": "code",
   "execution_count": 9,
   "metadata": {},
   "outputs": [],
   "source": [
    "def encryption(plainText, publicKey):       # publicKey is of the form : (e, n)\n",
    "    # Calculate P^e mod n\n",
    "    return FastExponentiation(plainText, publicKey[0], publicKey[1])"
   ]
  },
  {
   "cell_type": "code",
   "execution_count": 10,
   "metadata": {},
   "outputs": [],
   "source": [
    "def decryption(cipherText, privateKey):     # privateKey is of the form : (d, n)\n",
    "    # Calculate C^d mod n\n",
    "    return FastExponentiation(cipherText, privateKey[0], privateKey[1])"
   ]
  },
  {
   "cell_type": "markdown",
   "metadata": {},
   "source": [
    "#### The method goes as follows: \n",
    "A receiver will want to receive a message. So, she generates a public and a private key using her favourite prime numbers and sends the public key to the sender. In turn, the sender encrypts the plain Text using the public key and sends it to the receiver, who in turn, decrypts it using the private key that she had generated while generating the public key. "
   ]
  },
  {
   "cell_type": "code",
   "execution_count": 11,
   "metadata": {},
   "outputs": [
    {
     "name": "stdout",
     "output_type": "stream",
     "text": [
      "Enter your preferred prime nos : 11 43\n",
      "Generating keys..\n",
      "Socket listening..\n",
      "Public Key sent\n",
      "Connecting to get the encrypted message..\n",
      "Message received\n"
     ]
    }
   ],
   "source": [
    "# This program is the receiver and the other notebook acts as the sender. \n",
    "import socket\n",
    "def sendPublicKey(publicKey):\n",
    "    s = socket.socket()\n",
    "    port = 12345\n",
    "    s.bind(('', port))\n",
    "    s.listen()\n",
    "    print('Socket listening..')\n",
    "    while True:\n",
    "        c, addr = s.accept()\n",
    "        c.send(publicKey)\n",
    "        print('Public Key sent')\n",
    "        c.close()\n",
    "        return 'Success'\n",
    "def receiveEncryptedMsg():\n",
    "    s = socket.socket()\n",
    "    port = 12345\n",
    "    s.connect(('127.0.0.1', port))\n",
    "    print('Connecting to get the encrypted message..')\n",
    "    msg = s.recv(1024)\n",
    "    print('Message received')\n",
    "    s.close()\n",
    "    return msg\n",
    "def receiverProgram():\n",
    "    # First generate keys;\n",
    "    p, q = [int(i) for i in input('Enter your preferred prime nos : ').split()]\n",
    "    print('Generating keys..')\n",
    "    publicKey, privateKey = generateKeys(p, q)\n",
    "    # send the public key to the sender.\n",
    "    sendPublicKey(str(publicKey).encode())\n",
    "    # Now receiving the encrypted message\n",
    "    encryptedMsg = receiveEncryptedMsg()\n",
    "    return (encryptedMsg, privateKey)\n",
    "encryptedMsg, privateKey = receiverProgram()"
   ]
  },
  {
   "cell_type": "code",
   "execution_count": 14,
   "metadata": {},
   "outputs": [
    {
     "name": "stdout",
     "output_type": "stream",
     "text": [
      "The received message is : 123\n"
     ]
    }
   ],
   "source": [
    "print('The received message is : ' + str(decryption(int(encryptedMsg.decode()), privateKey)))"
   ]
  },
  {
   "cell_type": "markdown",
   "metadata": {},
   "source": [
    "### Question 4"
   ]
  },
  {
   "cell_type": "code",
   "execution_count": 17,
   "metadata": {},
   "outputs": [
    {
     "name": "stdout",
     "output_type": "stream",
     "text": [
      "Verified!!\n"
     ]
    }
   ],
   "source": [
    "publicKey, privateKey = generateKeys(11, 37)\n",
    "def sign(message):\n",
    "    s = FastExponentiation(message, privateKey[0], privateKey[1])\n",
    "    return s\n",
    "def verify(message, sign):\n",
    "    m_prime = FastExponentiation(sign, publicKey[0], publicKey[1])\n",
    "    # Checking if m_prime and message are congruent!\n",
    "    assert m_prime % publicKey[1] == message % publicKey[1]\n",
    "    print('Verified!!')\n",
    "s = sign(125)\n",
    "verify(125, sign(125))"
   ]
  },
  {
   "cell_type": "code",
   "execution_count": 27,
   "metadata": {},
   "outputs": [
    {
     "name": "stdout",
     "output_type": "stream",
     "text": [
      "Socket listening..\n",
      "Public Key sent\n",
      "Socket listening..\n",
      "Socket listening..\n"
     ]
    },
    {
     "data": {
      "text/plain": [
       "'203 sending successful..'"
      ]
     },
     "execution_count": 27,
     "metadata": {},
     "output_type": "execute_result"
    }
   ],
   "source": [
    "def send(message):\n",
    "    # Send the sign from here.\n",
    "    s = socket.socket()\n",
    "    port = 1285\n",
    "    s.bind(('', port))\n",
    "    s.listen()\n",
    "    print('Socket listening..')\n",
    "    while True:\n",
    "        c, addr = s.accept()\n",
    "        c.send(str(message).encode())\n",
    "        c.close()\n",
    "        return str(message) + ' sending successful..'\n",
    "sendPublicKey(str(publicKey).encode())\n",
    "msg = 124\n",
    "send(msg)\n",
    "send(int(sign(msg)))\n",
    "#signee(1234)"
   ]
  }
 ],
 "metadata": {
  "kernelspec": {
   "display_name": "Python 3",
   "language": "python",
   "name": "python3"
  },
  "language_info": {
   "codemirror_mode": {
    "name": "ipython",
    "version": 3
   },
   "file_extension": ".py",
   "mimetype": "text/x-python",
   "name": "python",
   "nbconvert_exporter": "python",
   "pygments_lexer": "ipython3",
   "version": "3.7.3"
  }
 },
 "nbformat": 4,
 "nbformat_minor": 2
}
