{
 "cells": [
  {
   "cell_type": "markdown",
   "metadata": {},
   "source": [
    "## LAB 5"
   ]
  },
  {
   "cell_type": "markdown",
   "metadata": {},
   "source": [
    "### Question 3"
   ]
  },
  {
   "cell_type": "code",
   "execution_count": 1,
   "metadata": {},
   "outputs": [],
   "source": [
    "def FastExponentiation(a, x, n):\n",
    "    # calculating y = a^x mod n\n",
    "    p = list(bin(x)[2:])\n",
    "    y = 1\n",
    "    p.reverse()\n",
    "    for i in range(len(p)):\n",
    "        if p[i] == '1':\n",
    "            y = (a * y) % n\n",
    "        a = (a * a) % n\n",
    "    return y"
   ]
  },
  {
   "cell_type": "code",
   "execution_count": 2,
   "metadata": {},
   "outputs": [],
   "source": [
    "def encryption(plainText, publicKey):       # publicKey is of the form : (e, n)\n",
    "    # Calculate P^e mod n\n",
    "    return FastExponentiation(plainText, publicKey[0], publicKey[1])"
   ]
  },
  {
   "cell_type": "code",
   "execution_count": 3,
   "metadata": {},
   "outputs": [],
   "source": [
    "# here, the sender receives the public key\n",
    "import socket\n",
    "def getKeyReady(publicKey):\n",
    "    temp = list(publicKey.decode())\n",
    "    temp.remove('(')\n",
    "    temp.remove(')')\n",
    "    temp.remove(' ')\n",
    "    ind = temp.index(',')\n",
    "    return(int(''.join(temp[ : ind])), int(''.join(temp[ind + 1 : ])))\n",
    "def receivePublicKey():\n",
    "    s = socket.socket()\n",
    "    port = 12345\n",
    "    s.connect(('127.0.0.1', port))\n",
    "    print('Connected to server..')\n",
    "    print('Receiving public key..')\n",
    "    publicKey = s.recv(1024)\n",
    "    print('Public key received..')\n",
    "    s.close()\n",
    "    return publicKey"
   ]
  },
  {
   "cell_type": "code",
   "execution_count": 5,
   "metadata": {},
   "outputs": [
    {
     "name": "stdout",
     "output_type": "stream",
     "text": [
      "Enter the message : 123\n",
      "Connected to server..\n",
      "Receiving public key..\n",
      "Public key received..\n",
      "Preparing to send message... Socket created..\n",
      "Server listening..\n",
      "Got connection from :  ('127.0.0.1', 61775)\n",
      "Encrypted message sent..\n"
     ]
    }
   ],
   "source": [
    "def encryptMessage():\n",
    "    # Encrypt the message. Say, the message is an integer.. \n",
    "    encryptedMsg = encryption(int(input('Enter the message : ')), getKeyReady(receivePublicKey()))\n",
    "    #sendEncryptedMessage(encryptedMsg)\n",
    "    return encryptedMsg\n",
    "def sendEncryptedMsg():\n",
    "    encryptedMsg = encryptMessage()\n",
    "    s = socket.socket()\n",
    "    print('Preparing to send message... Socket created..')\n",
    "    port = 12345\n",
    "    s.bind(('', port))\n",
    "    s.listen()\n",
    "    print('Server listening..')\n",
    "    while True:\n",
    "        c, addr = s.accept()\n",
    "        print('Got connection from : ', addr)\n",
    "        c.send(str(encryptedMsg).encode())\n",
    "        print('Encrypted message sent..')\n",
    "        c.close()\n",
    "        return\n",
    "sendEncryptedMsg()"
   ]
  },
  {
   "cell_type": "markdown",
   "metadata": {},
   "source": [
    "### Question 4"
   ]
  },
  {
   "cell_type": "code",
   "execution_count": 18,
   "metadata": {},
   "outputs": [
    {
     "name": "stdout",
     "output_type": "stream",
     "text": [
      "Connected to server..\n",
      "Receiving public key..\n",
      "Public key received..\n",
      "Receiving first..\n",
      "Connected to server..\n",
      "Receiving message..\n",
      "message received..\n",
      "Receiving signature..\n",
      "Connected to server..\n",
      "Receiving message..\n",
      "message received..\n",
      "Verifying signature and message..\n",
      "Verified!!\n"
     ]
    }
   ],
   "source": [
    "def receive():\n",
    "    s = socket.socket()\n",
    "    port = 1285\n",
    "    s.connect(('127.0.0.1', port))\n",
    "    print('Connected to server..')\n",
    "    print('Receiving message..')\n",
    "    message = s.recv(1024)\n",
    "    print('message received..')\n",
    "    s.close()\n",
    "    return message\n",
    "def verify(message, sign, publicKey):\n",
    "    m_prime = FastExponentiation(sign, publicKey[0], publicKey[1])\n",
    "    # Checking if m_prime and message are congruent!\n",
    "    assert m_prime % publicKey[1] == message % publicKey[1]\n",
    "    print('Verified!!')\n",
    "publicKey = getKeyReady(receivePublicKey())\n",
    "print('Receiving first..')\n",
    "message = receive().decode()\n",
    "print('Receiving signature..')\n",
    "sign = receive().decode()\n",
    "print('Verifying signature and message..')\n",
    "verify(int(message), int(sign), publicKey)\n",
    "#print('Verified!!')"
   ]
  },
  {
   "cell_type": "code",
   "execution_count": 12,
   "metadata": {},
   "outputs": [
    {
     "name": "stdout",
     "output_type": "stream",
     "text": [
      "124 203\n"
     ]
    }
   ],
   "source": [
    "print(message, sign)"
   ]
  }
 ],
 "metadata": {
  "kernelspec": {
   "display_name": "Python 3",
   "language": "python",
   "name": "python3"
  },
  "language_info": {
   "codemirror_mode": {
    "name": "ipython",
    "version": 3
   },
   "file_extension": ".py",
   "mimetype": "text/x-python",
   "name": "python",
   "nbconvert_exporter": "python",
   "pygments_lexer": "ipython3",
   "version": "3.7.3"
  }
 },
 "nbformat": 4,
 "nbformat_minor": 2
}
